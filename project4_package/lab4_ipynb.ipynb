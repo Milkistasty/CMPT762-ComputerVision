{
 "cells": [
  {
   "cell_type": "markdown",
   "metadata": {
    "id": "QHnVupBBn9eR"
   },
   "source": [
    "\n",
    "# Assignment 4\n",
    "\n",
    "This is a template notebook for Assignment 4.\n"
   ]
  },
  {
   "cell_type": "markdown",
   "metadata": {
    "id": "vM54r6jlKTII"
   },
   "source": [
    "## Install dependencies and initialization"
   ]
  },
  {
   "cell_type": "code",
   "execution_count": null,
   "metadata": {
    "id": "9_FzH13EjseR"
   },
   "outputs": [],
   "source": [
    "# Compiles the detectron2 code on your machine (or google colab machine) using the latest torch and python available\n",
    "!pip install pycocotools>=2.0.1\n",
    "# !pip install pyyaml==5.1\n",
    "!python -m pip install 'git+https://github.com/facebookresearch/detectron2.git'\n",
    "\n",
    "# If running it locally you can use pre-complied installations files from the link below (not compatable to python 3.10 and above)\n",
    "# https://detectron2.readthedocs.io/en/latest/tutorials/install.html\n",
    "\n",
    "!pip install sympy==1.13.0 # compatible sympy version"
   ]
  },
  {
   "cell_type": "code",
   "execution_count": null,
   "metadata": {
    "id": "dqAUb5Y12qXt"
   },
   "outputs": [],
   "source": [
    "!pwd # shows current directory\n",
    "!ls  # shows all files in this directory\n",
    "!nvidia-smi # shows the specs and the current status of the allocated GPU"
   ]
  },
  {
   "cell_type": "code",
   "execution_count": 3,
   "metadata": {
    "colab": {
     "base_uri": "https://localhost:8080/"
    },
    "executionInfo": {
     "elapsed": 16083,
     "status": "ok",
     "timestamp": 1731860602565,
     "user": {
      "displayName": "Milkistasty",
      "userId": "16252669245058055518"
     },
     "user_tz": 480
    },
    "id": "b-i4hmGYk1dL",
    "outputId": "8ca66790-5638-4331-8a1c-989c08f0fbb5"
   },
   "outputs": [
    {
     "data": {
      "text/plain": [
       "<Logger detectron2 (DEBUG)>"
      ]
     },
     "execution_count": 3,
     "metadata": {},
     "output_type": "execute_result"
    }
   ],
   "source": [
    "# import some common libraries\n",
    "from google.colab.patches import cv2_imshow\n",
    "from sklearn.metrics import jaccard_score\n",
    "from PIL import Image, ImageDraw, ImageOps\n",
    "from tqdm.notebook import tqdm\n",
    "import pandas as pd\n",
    "import numpy as np\n",
    "import datetime\n",
    "import random\n",
    "import json\n",
    "import cv2\n",
    "import csv\n",
    "import os\n",
    "import matplotlib.pyplot as plt\n",
    "import copy\n",
    "from matplotlib import cm\n",
    "import warnings\n",
    "warnings.filterwarnings(\"ignore\")\n",
    "\n",
    "# import some common pytorch utilities\n",
    "from torch.utils.data import Dataset, DataLoader\n",
    "import torchvision.transforms as transforms\n",
    "from torch.autograd import Variable\n",
    "import torch.nn.functional as F\n",
    "import torch.nn as nn\n",
    "import torch\n",
    "from torchsummary import summary\n",
    "\n",
    "# import some common detectron2 utilities\n",
    "import detectron2\n",
    "from detectron2 import model_zoo\n",
    "from detectron2.config import get_cfg\n",
    "from detectron2.structures import BoxMode\n",
    "from detectron2.engine import DefaultTrainer, DefaultPredictor, HookBase, default_argument_parser\n",
    "from detectron2.utils.logger import setup_logger\n",
    "from detectron2.utils.visualizer import ColorMode\n",
    "from detectron2.utils.visualizer import Visualizer\n",
    "from detectron2.data import build_detection_train_loader, build_detection_test_loader, MetadataCatalog, DatasetCatalog, DatasetMapper\n",
    "from detectron2.evaluation import COCOEvaluator, inference_on_dataset\n",
    "from detectron2.data import detection_utils as utils\n",
    "from detectron2.modeling import build_model\n",
    "import detectron2.data.transforms as T\n",
    "from detectron2.checkpoint import DetectionCheckpointer\n",
    "from detectron2.utils.visualizer import GenericMask\n",
    "setup_logger()"
   ]
  },
  {
   "cell_type": "code",
   "execution_count": 4,
   "metadata": {
    "colab": {
     "base_uri": "https://localhost:8080/"
    },
    "executionInfo": {
     "elapsed": 7,
     "status": "ok",
     "timestamp": 1731860602565,
     "user": {
      "displayName": "Milkistasty",
      "userId": "16252669245058055518"
     },
     "user_tz": 480
    },
    "id": "tUA_j6AF1L5Y",
    "outputId": "21f09dbf-e4f1-4f0c-9264-252acdc5a9af"
   },
   "outputs": [
    {
     "data": {
      "text/plain": [
       "True"
      ]
     },
     "execution_count": 4,
     "metadata": {},
     "output_type": "execute_result"
    }
   ],
   "source": [
    "# Make sure that GPU is available for your notebook.\n",
    "# Otherwise, you need to update the settungs in Runtime -> Change runtime type -> Hardware accelerator\n",
    "torch.cuda.is_available()"
   ]
  },
  {
   "cell_type": "code",
   "execution_count": 5,
   "metadata": {
    "colab": {
     "base_uri": "https://localhost:8080/"
    },
    "executionInfo": {
     "elapsed": 17159,
     "status": "ok",
     "timestamp": 1731860619720,
     "user": {
      "displayName": "Milkistasty",
      "userId": "16252669245058055518"
     },
     "user_tz": 480
    },
    "id": "ZyAvNCJMmvFF",
    "outputId": "e00523f4-26a6-4e57-b76c-9e6fa5aa1577"
   },
   "outputs": [
    {
     "name": "stdout",
     "output_type": "stream",
     "text": [
      "Mounted at /content/drive\n"
     ]
    }
   ],
   "source": [
    "# Ignore it if running on a local machine and not on colab.\n",
    "# You need to mount your google drive in order to load the data:\n",
    "from google.colab import drive\n",
    "drive.mount('/content/drive')\n",
    "# Put all the corresponding data files in a data folder and put the data folder in a same directory with this notebook.\n",
    "# Also create an output directory for your files such as the trained models and the output images."
   ]
  },
  {
   "cell_type": "code",
   "execution_count": 6,
   "metadata": {
    "executionInfo": {
     "elapsed": 163,
     "status": "ok",
     "timestamp": 1731860619882,
     "user": {
      "displayName": "Milkistasty",
      "userId": "16252669245058055518"
     },
     "user_tz": 480
    },
    "id": "A_Di_fgL4HSv"
   },
   "outputs": [],
   "source": [
    "# Define the location of current directory, which should contain data/train, data/test, and data/train.json.\n",
    "# TODO: approx 1 line\n",
    "BASE_DIR = '/content/drive/My Drive/CMPT_CV_lab4'\n",
    "OUTPUT_DIR = '{}/output'.format(BASE_DIR)\n",
    "os.makedirs(OUTPUT_DIR, exist_ok=True)"
   ]
  },
  {
   "cell_type": "markdown",
   "metadata": {
    "id": "Vk4gID50K03a"
   },
   "source": [
    "## Part 1: Object Detection"
   ]
  },
  {
   "cell_type": "markdown",
   "metadata": {
    "id": "xRV-KFJzlur4"
   },
   "source": [
    "### Data Loader"
   ]
  },
  {
   "cell_type": "code",
   "execution_count": 11,
   "metadata": {
    "executionInfo": {
     "elapsed": 152,
     "status": "ok",
     "timestamp": 1731860800895,
     "user": {
      "displayName": "Milkistasty",
      "userId": "16252669245058055518"
     },
     "user_tz": 480
    },
    "id": "dq9GY37ml1kr"
   },
   "outputs": [],
   "source": [
    "'''\n",
    "# This function should return a list of data samples in which each sample is a dictionary.\n",
    "# Make sure to select the correct bbox_mode for the data\n",
    "# For the test data, you only have access to the images, therefore, the annotations should be empty.\n",
    "# Other values could be obtained from the image files.\n",
    "# TODO: approx 35 lines\n",
    "'''\n",
    "\n",
    "def get_detection_data(set_name):\n",
    "    data_dirs = '{}/data'.format(BASE_DIR)\n",
    "    train_dirs = '{}/data/train'.format(BASE_DIR)\n",
    "    test_dirs = '{}/data/test'.format(BASE_DIR)\n",
    "    dataset = []\n",
    "    json_file = os.path.join(data_dirs, \"train.json\")\n",
    "    with open(json_file) as f:\n",
    "        imgs_anns = json.load(f)\n",
    "\n",
    "    if set_name == \"test\":\n",
    "          # Handle test set where annotations do not exist\n",
    "          for img_file in os.listdir(test_dirs):\n",
    "              if img_file.endswith('.png'):\n",
    "                  img_path = os.path.join(test_dirs, img_file)\n",
    "                  with Image.open(img_path) as img:\n",
    "                      width, height = img.size\n",
    "                  dataset.append({\n",
    "                      \"file_name\": img_path,\n",
    "                      \"image_id\": os.path.splitext(img_file)[0],\n",
    "                      \"height\": height,\n",
    "                      \"width\": width,\n",
    "                      \"annotations\": []  # Test data has no annotations\n",
    "                  })\n",
    "\n",
    "    else:\n",
    "        images = {}\n",
    "        for ann in imgs_anns:\n",
    "            image_id = ann[\"image_id\"]\n",
    "            if image_id not in images:\n",
    "                img_path = os.path.join(train_dirs, ann[\"file_name\"])\n",
    "                with Image.open(img_path) as img:\n",
    "                    width, height = img.size\n",
    "                images[image_id] = {\n",
    "                    \"file_name\": img_path,\n",
    "                    \"image_id\": image_id,\n",
    "                    \"height\": height,\n",
    "                    \"width\": width,\n",
    "                    \"annotations\": []\n",
    "                }\n",
    "            # Append annotation to the corresponding image entry\n",
    "            images[image_id][\"annotations\"].append({\n",
    "                \"bbox\": ann[\"bbox\"],\n",
    "                \"bbox_mode\": BoxMode.XYWH_ABS,\n",
    "                \"category_id\": 0,\n",
    "                \"segmentation\": ann.get(\"segmentation\", None),\n",
    "            })\n",
    "\n",
    "        dataset = list(images.values())\n",
    "\n",
    "    return dataset"
   ]
  },
  {
   "cell_type": "code",
   "execution_count": 8,
   "metadata": {
    "executionInfo": {
     "elapsed": 163,
     "status": "ok",
     "timestamp": 1731860624609,
     "user": {
      "displayName": "Milkistasty",
      "userId": "16252669245058055518"
     },
     "user_tz": 480
    },
    "id": "xCH-2mWxDVVu"
   },
   "outputs": [],
   "source": [
    "'''\n",
    "# Remember to add your dataset to DatasetCatalog and MetadataCatalog\n",
    "# Consdier \"data_detection_train\" and \"data_detection_test\" for registration\n",
    "# You can also add an optional \"data_detection_val\" for your validation by spliting the training data\n",
    "# TODO: approx 5 lines\n",
    "'''\n",
    "\n",
    "for d in [\"train\", \"val\", \"test\"]:\n",
    "    if \"plane_\" + d in DatasetCatalog.list():\n",
    "        DatasetCatalog.remove(\"plane_\" + d)\n",
    "    DatasetCatalog.register(\"plane_\" + d, lambda d=d: get_detection_data(d))\n",
    "    MetadataCatalog.get(\"plane_\" + d).set(thing_classes=[\"plane\"])\n",
    "planes_metadata = MetadataCatalog.get(\"plane_train\")"
   ]
  },
  {
   "cell_type": "code",
   "execution_count": null,
   "metadata": {
    "collapsed": true,
    "id": "qNSdXCL_DVAz"
   },
   "outputs": [],
   "source": [
    "'''\n",
    "# Visualize some samples using Visualizer to make sure that the function works correctly\n",
    "# TODO: approx 5 lines\n",
    "'''\n",
    "\n",
    "dataset_dicts = get_detection_data(\"train\")\n",
    "for d in random.sample(dataset_dicts, 3):\n",
    "    #print(d[\"file_name\"])\n",
    "    img = cv2.imread(d[\"file_name\"])\n",
    "\n",
    "    visualizer = Visualizer(img[:, :, ::-1], metadata=planes_metadata, scale=0.2)\n",
    "    out = visualizer.draw_dataset_dict(d)\n",
    "    cv2_imshow(out.get_image()[:, :, ::-1])"
   ]
  },
  {
   "cell_type": "markdown",
   "metadata": {
    "id": "uM1thbN-ntjI"
   },
   "source": [
    "### Set Configs"
   ]
  },
  {
   "cell_type": "code",
   "execution_count": 16,
   "metadata": {
    "executionInfo": {
     "elapsed": 194,
     "status": "ok",
     "timestamp": 1731860907196,
     "user": {
      "displayName": "Milkistasty",
      "userId": "16252669245058055518"
     },
     "user_tz": 480
    },
    "id": "HUjkwRsOn1O0"
   },
   "outputs": [],
   "source": [
    "'''\n",
    "# Set the configs for the detection part in here.\n",
    "# TODO: approx 15 lines\n",
    "'''\n",
    "cfg = get_cfg()\n",
    "cfg.OUTPUT_DIR = \"{}/output/\".format(BASE_DIR)\n",
    "\n",
    "# cfg.merge_from_file(model_zoo.get_config_file(\"COCO-Detection/faster_rcnn_R_101_FPN_3x.yaml\"))  # baseline model\n",
    "cfg.merge_from_file(model_zoo.get_config_file(\"COCO-Detection/faster_rcnn_X_101_32x8d_FPN_3x.yaml\"))\n",
    "cfg.DATASETS.TRAIN = (\"plane_train\",)\n",
    "cfg.DATASETS.TEST = (\"plane_test\",)\n",
    "\n",
    "cfg.DATALOADER.NUM_WORKERS = 2\n",
    "# cfg.MODEL.WEIGHTS = model_zoo.get_checkpoint_url(\"COCO-Detection/faster_rcnn_R_101_FPN_3x.yaml\")  # baseline model\n",
    "cfg.MODEL.WEIGHTS = model_zoo.get_checkpoint_url(\"COCO-Detection/faster_rcnn_X_101_32x8d_FPN_3x.yaml\")\n",
    "cfg.SOLVER.IMS_PER_BATCH = 2\n",
    "cfg.SOLVER.BASE_LR = 0.00025\n",
    "cfg.SOLVER.MAX_ITER = 5000\n",
    "cfg.MODEL.ROI_HEADS.BATCH_SIZE_PER_IMAGE = 512\n",
    "cfg.MODEL.ROI_HEADS.NUM_CLASSES = 1"
   ]
  },
  {
   "cell_type": "markdown",
   "metadata": {
    "id": "P4rql8pNokE4"
   },
   "source": [
    "### Training"
   ]
  },
  {
   "cell_type": "code",
   "execution_count": 17,
   "metadata": {
    "executionInfo": {
     "elapsed": 157,
     "status": "ok",
     "timestamp": 1731860909106,
     "user": {
      "displayName": "Milkistasty",
      "userId": "16252669245058055518"
     },
     "user_tz": 480
    },
    "id": "fUMegbrifoap"
   },
   "outputs": [],
   "source": [
    "# Custom data augmentation\n",
    "# reference: https://detectron2.readthedocs.io/en/latest/tutorials/data_loading.html\n",
    "\n",
    "def mapper(dataset_dict):\n",
    "    dataset_dict = copy.deepcopy(dataset_dict)\n",
    "    image = utils.read_image(dataset_dict[\"file_name\"], format=\"BGR\")\n",
    "    transform_list = [\n",
    "                      T.Resize((512,512)),\n",
    "                      T.RandomFlip(prob=0.5, horizontal=False, vertical=True),\n",
    "                      T.RandomFlip(prob=0.5, horizontal=True, vertical=False),\n",
    "                      T.RandomRotation([-20, 20]),\n",
    "                      T.RandomBrightness(0.7, 1.3),\n",
    "                      T.RandomContrast(0.7, 1.3),\n",
    "                      T.RandomSaturation(0.7, 1.3),\n",
    "                      T.RandomLighting(0.7)\n",
    "                     ]\n",
    "    image, transforms = T.apply_transform_gens(transform_list, image)\n",
    "    dataset_dict[\"image\"] = torch.as_tensor(image.transpose(2, 0, 1).astype(\"float32\"))\n",
    "    annos = [\n",
    "          utils.transform_instance_annotations(ann, transforms, image.shape[:2])\n",
    "          for ann in dataset_dict.pop(\"annotations\")\n",
    "          if ann.get(\"iscrowd\", 0) == 0\n",
    "          ]\n",
    "    instances = utils.annotations_to_instances(annos, image.shape[:2])\n",
    "    dataset_dict[\"instances\"] = utils.filter_empty_instances(instances)\n",
    "    return dataset_dict"
   ]
  },
  {
   "cell_type": "code",
   "execution_count": 18,
   "metadata": {
    "executionInfo": {
     "elapsed": 1,
     "status": "ok",
     "timestamp": 1731860910661,
     "user": {
      "displayName": "Milkistasty",
      "userId": "16252669245058055518"
     },
     "user_tz": 480
    },
    "id": "aC8WCQ5FfoTV"
   },
   "outputs": [],
   "source": [
    "class CustomTrainer(DefaultTrainer):\n",
    "    @classmethod\n",
    "    def build_train_loader(cls, cfg):\n",
    "        return build_detection_train_loader(cfg, mapper=mapper)"
   ]
  },
  {
   "cell_type": "code",
   "execution_count": null,
   "metadata": {
    "collapsed": true,
    "id": "7d3KxiHO_0gb"
   },
   "outputs": [],
   "source": [
    "'''\n",
    "# Create a DefaultTrainer using the above config and train the model\n",
    "# TODO: approx 5 lines\n",
    "'''\n",
    "\n",
    "os.makedirs(cfg.OUTPUT_DIR, exist_ok=True)\n",
    "# trainer = DefaultTrainer(cfg)\n",
    "trainer = CustomTrainer(cfg)\n",
    "trainer.resume_or_load(resume=False)\n",
    "trainer.train()"
   ]
  },
  {
   "cell_type": "code",
   "execution_count": null,
   "metadata": {
    "id": "5aGWgA-Tk77n"
   },
   "outputs": [],
   "source": [
    "\"\"\"\n",
    "# freeze all layers except the last ones (proposal_generator, roi_heads, box_head, and box_predictor)\n",
    "# but it didn't work well\n",
    "# AP50 on 0.6 validation set: 18.6\n",
    "\"\"\"\n",
    "\n",
    "\"\"\"\n",
    "class CustomTrainer(DefaultTrainer):\n",
    "    @classmethod\n",
    "    def build_model(cls, cfg):\n",
    "        model = build_model(cfg)\n",
    "        # Freeze all layers except the specified ones\n",
    "        for name, param in model.named_parameters():\n",
    "            if not (\n",
    "                \"proposal_generator\" in name\n",
    "                or \"roi_heads\" in name\n",
    "                or \"roi_heads.box_head\" in name\n",
    "                or \"roi_heads.box_predictor\" in name\n",
    "            ):\n",
    "                param.requires_grad = False\n",
    "            else:\n",
    "                param.requires_grad = True\n",
    "        # Log trainable layers\n",
    "        print(\"Trainable Layers:\")\n",
    "        for name, param in model.named_parameters():\n",
    "            if param.requires_grad:\n",
    "                print(f\"- {name}\")\n",
    "\n",
    "        return model\n",
    "\n",
    "    @classmethod\n",
    "    def build_train_loader(cls, cfg):\n",
    "        # Use the custom mapper for data augmentation\n",
    "        print(\"Building train loader with custom mapper...\")\n",
    "        return build_detection_train_loader(cfg, mapper=mapper)\n",
    "\n",
    "os.makedirs(cfg.OUTPUT_DIR, exist_ok=True)\n",
    "trainer = CustomTrainer(cfg)\n",
    "trainer.resume_or_load(resume=False)\n",
    "trainer.train()\n",
    "\"\"\""
   ]
  },
  {
   "cell_type": "markdown",
   "metadata": {
    "id": "fRVEiICco3SV"
   },
   "source": [
    "### Evaluation and Visualization"
   ]
  },
  {
   "cell_type": "code",
   "execution_count": null,
   "metadata": {
    "id": "VYCIXdMZvDYL"
   },
   "outputs": [],
   "source": [
    "'''\n",
    "# After training the model, you need to update cfg.MODEL.WEIGHTS\n",
    "# Define a DefaultPredictor\n",
    "'''\n",
    "\n",
    "cfg.MODEL.WEIGHTS = os.path.join(cfg.OUTPUT_DIR, \"model_final.pth\")\n",
    "cfg.MODEL.ROI_HEADS.SCORE_THRESH_TEST = 0.6\n",
    "predictor = DefaultPredictor(cfg)"
   ]
  },
  {
   "cell_type": "code",
   "execution_count": null,
   "metadata": {
    "collapsed": true,
    "id": "_hRCf86KGi5v"
   },
   "outputs": [],
   "source": [
    "'''\n",
    "# Visualize the output for 3 random test samples\n",
    "# TODO: approx 10 lines\n",
    "'''\n",
    "\n",
    "dataset_dicts = get_detection_data(\"test\")\n",
    "for d in random.sample(dataset_dicts, 3):\n",
    "    img = cv2.imread(d[\"file_name\"])\n",
    "    outputs = predictor(img)\n",
    "\n",
    "    vis = Visualizer(img[:, :, ::-1],\n",
    "                   metadata=planes_metadata,\n",
    "                   scale=0.2,\n",
    "    )\n",
    "    out = vis.draw_instance_predictions(outputs[\"instances\"].to(\"cpu\"))\n",
    "    cv2_imshow(out.get_image()[:, :, ::-1])"
   ]
  },
  {
   "cell_type": "code",
   "execution_count": null,
   "metadata": {
    "id": "p-dG6ugvy4Xg"
   },
   "outputs": [],
   "source": [
    "# Visualize the same output for Ablation Study\n",
    "\n",
    "dataset_dicts = get_detection_data(\"test\")\n",
    "sample = dataset_dicts[1]\n",
    "img = cv2.imread(sample[\"file_name\"])\n",
    "\n",
    "outputs = predictor(img)\n",
    "\n",
    "\n",
    "vis = Visualizer(img[:, :, ::-1],\n",
    "                   metadata=planes_metadata,\n",
    "                   scale=0.5,\n",
    "                    # remove the colors of unsegmented pixels. This option is only available for segmentation models\n",
    "    )\n",
    "out = vis.draw_instance_predictions(outputs[\"instances\"].to(\"cpu\"))\n",
    "cv2_imshow(out.get_image()[:, :, ::-1])"
   ]
  },
  {
   "cell_type": "code",
   "execution_count": null,
   "metadata": {
    "id": "D0wRdlcKo6BD"
   },
   "outputs": [],
   "source": [
    "'''\n",
    "# Use COCOEvaluator and build_detection_train_loader\n",
    "# You can save the output predictions using inference_on_dataset\n",
    "# TODO: approx 5 lines\n",
    "'''\n",
    "\n",
    "print(OUTPUT_DIR)\n",
    "\n",
    "evaluator = COCOEvaluator(\"plane_train\", cfg, False, output_dir= \"./output/\")\n",
    "val_loader = build_detection_test_loader(cfg, \"plane_train\")\n",
    "print(inference_on_dataset(trainer.model, val_loader, evaluator))"
   ]
  },
  {
   "cell_type": "markdown",
   "metadata": {
    "id": "EwYvbwcjpKBk"
   },
   "source": [
    "### Improvements\n",
    "\n",
    "For this part, you can bring any improvement which you have by adding new input parameters to the previous functions or defining new functions and variables."
   ]
  },
  {
   "cell_type": "code",
   "execution_count": null,
   "metadata": {
    "id": "xdR6KbCZpOlk"
   },
   "outputs": [],
   "source": [
    "'''\n",
    "# Bring any changes and updates regarding the improvement in here\n",
    "'''\n"
   ]
  },
  {
   "cell_type": "markdown",
   "metadata": {
    "id": "98_M4TooqSs2"
   },
   "source": [
    "## Part 2: Semantic Segmentation"
   ]
  },
  {
   "cell_type": "markdown",
   "metadata": {
    "id": "ByAEsMtIPLrO"
   },
   "source": [
    "### Data Loader"
   ]
  },
  {
   "cell_type": "code",
   "execution_count": 33,
   "metadata": {
    "executionInfo": {
     "elapsed": 82079,
     "status": "ok",
     "timestamp": 1731862886788,
     "user": {
      "displayName": "Milkistasty",
      "userId": "16252669245058055518"
     },
     "user_tz": 480
    },
    "id": "zFdnDYpIH38D"
   },
   "outputs": [],
   "source": [
    "# Caching Train Data\n",
    "train_crop = []\n",
    "train_dicts = get_detection_data(\"train\")\n",
    "\n",
    "for v in train_dicts:\n",
    "    record = {}\n",
    "    record[\"file_name\"] = v[\"file_name\"]\n",
    "    objs = []\n",
    "\n",
    "    # Load image\n",
    "    try:\n",
    "        img = Image.open(v[\"file_name\"]).convert('RGB')\n",
    "    except IOError:\n",
    "        print(f\"Warning: Image {v['file_name']} could not be opened.\")\n",
    "        continue\n",
    "\n",
    "    for ann in v[\"annotations\"]:\n",
    "        img_seg = ann[\"segmentation\"]\n",
    "        img_bbox = ann[\"bbox\"]  # [x, y, width, height]\n",
    "        x, y, w, h = map(int, img_bbox)\n",
    "        x2, y2 = x + w, y + h\n",
    "\n",
    "        # Adjust segmentation coordinates relative to the cropped image\n",
    "        new_seg = []\n",
    "        for seg in img_seg:\n",
    "            adjusted_seg = []\n",
    "            for j in range(0, len(seg), 2):\n",
    "                adjusted_x = seg[j] - x\n",
    "                adjusted_y = seg[j+1] - y\n",
    "                # Ensure coordinates are within the cropped image\n",
    "                adjusted_x = max(0, min(adjusted_x, w))\n",
    "                adjusted_y = max(0, min(adjusted_y, h))\n",
    "                adjusted_seg.append(adjusted_x)\n",
    "                adjusted_seg.append(adjusted_y)\n",
    "            new_seg.append(adjusted_seg)\n",
    "\n",
    "        # Crop and resize the image\n",
    "        cropped_img = img.crop((x, y, x2, y2))\n",
    "        obj_img = cropped_img.resize((128, 128), Image.LANCZOS)\n",
    "        obj_img = np.array(obj_img)\n",
    "\n",
    "        # Generate the mask\n",
    "        mask = np.zeros((h, w), dtype=np.uint8)\n",
    "        for adjusted_seg in new_seg:\n",
    "            if len(adjusted_seg) < 6:\n",
    "                # A polygon must have at least 3 points (6 values)\n",
    "                continue\n",
    "            poly = np.array(adjusted_seg).reshape((-1, 2)).astype(np.int32)\n",
    "            cv2.fillPoly(mask, [poly], 1)\n",
    "\n",
    "        # Resize the mask to (128, 128)\n",
    "        obj_mask = cv2.resize(mask, (128, 128), interpolation=cv2.INTER_NEAREST)\n",
    "\n",
    "        # Ensure the image has 3 channels\n",
    "        if obj_img.ndim == 2:\n",
    "            obj_img = np.stack([obj_img]*3, axis=-1)\n",
    "\n",
    "        obj = {\n",
    "            \"obj_img\": obj_img,\n",
    "            \"obj_mask\": obj_mask,\n",
    "        }\n",
    "        objs.append(obj)\n",
    "\n",
    "    record[\"annotations\"] = objs\n",
    "    train_crop.append(record)"
   ]
  },
  {
   "cell_type": "code",
   "execution_count": 31,
   "metadata": {
    "executionInfo": {
     "elapsed": 70649,
     "status": "ok",
     "timestamp": 1731862799544,
     "user": {
      "displayName": "Milkistasty",
      "userId": "16252669245058055518"
     },
     "user_tz": 480
    },
    "id": "ySzqefJhHXKL"
   },
   "outputs": [],
   "source": [
    "# Caching Test Data\n",
    "test_crop = []\n",
    "test_dicts = get_detection_data(\"test\")\n",
    "\n",
    "for pic in test_dicts:\n",
    "    record = {}\n",
    "    record[\"file_name\"] = pic[\"file_name\"]\n",
    "    objs = []\n",
    "\n",
    "    # Load the image once using OpenCV (BGR)\n",
    "    img_bgr = cv2.imread(pic[\"file_name\"])\n",
    "    if img_bgr is None:\n",
    "        print(f\"Warning: Image {pic['file_name']} could not be loaded.\")\n",
    "        continue\n",
    "\n",
    "    # Convert BGR to RGB for PIL Image compatibility\n",
    "    img_rgb = cv2.cvtColor(img_bgr, cv2.COLOR_BGR2RGB)\n",
    "    pil_img = Image.fromarray(img_rgb)\n",
    "\n",
    "    outputs = predictor(img_bgr)\n",
    "\n",
    "    instances = outputs[\"instances\"]\n",
    "    num_instances = len(instances)\n",
    "\n",
    "    for i in range(num_instances):\n",
    "        # Get the bounding box coordinates\n",
    "        bbox = instances.pred_boxes[i].tensor.cpu().numpy().flatten()\n",
    "        x1, y1, x2, y2 = bbox.astype(int)\n",
    "        width = x2 - x1\n",
    "        height = y2 - y1\n",
    "\n",
    "        # Validate bounding box coordinates\n",
    "        if width <= 0 or height <= 0:\n",
    "            print(f\"Invalid bbox with width {width} and height {height} in image {pic['file_name']}. Skipping.\")\n",
    "            continue\n",
    "\n",
    "        cropped_img = pil_img.crop((x1, y1, x2, y2))\n",
    "        obj_img = cropped_img.resize((128, 128), Image.LANCZOS)\n",
    "        obj_img = np.array(obj_img)\n",
    "        # Ensure the image has 3 channels\n",
    "        if obj_img.ndim == 2:\n",
    "            obj_img = np.stack([obj_img]*3, axis=-1)\n",
    "\n",
    "        # Initialize the mask to zeros\n",
    "        obj_mask = np.zeros((128, 128), dtype=np.uint8)\n",
    "\n",
    "        obj = {\n",
    "            \"bbox\": [x1, y1, x2, y2],\n",
    "            \"obj_img\": obj_img,\n",
    "            \"obj_mask\": obj_mask,\n",
    "        }\n",
    "        objs.append(obj)\n",
    "\n",
    "    record[\"annotations\"] = objs\n",
    "    test_crop.append(record)"
   ]
  },
  {
   "cell_type": "code",
   "execution_count": 34,
   "metadata": {
    "colab": {
     "base_uri": "https://localhost:8080/"
    },
    "executionInfo": {
     "elapsed": 178,
     "status": "ok",
     "timestamp": 1731862896643,
     "user": {
      "displayName": "Milkistasty",
      "userId": "16252669245058055518"
     },
     "user_tz": 480
    },
    "id": "03e7YnPWIBVE",
    "outputId": "6408d459-020b-45f7-eae1-075ef42ffa8a"
   },
   "outputs": [
    {
     "name": "stdout",
     "output_type": "stream",
     "text": [
      "198\n",
      "72\n"
     ]
    }
   ],
   "source": [
    "print(len(train_crop))\n",
    "print(len(test_crop))"
   ]
  },
  {
   "cell_type": "code",
   "execution_count": 35,
   "metadata": {
    "executionInfo": {
     "elapsed": 171,
     "status": "ok",
     "timestamp": 1731862902520,
     "user": {
      "displayName": "Milkistasty",
      "userId": "16252669245058055518"
     },
     "user_tz": 480
    },
    "id": "peQ95zLuIpkk"
   },
   "outputs": [],
   "source": [
    "'''\n",
    "# Write a function that returns the cropped image and corresponding mask regarding the target bounding box\n",
    "# idx is the index of the target bbox in the data\n",
    "# high-resolution image could be passed or could be load from data['file_name']\n",
    "# You can use the mask attribute of detectron2.utils.visualizer.GenericMask\n",
    "#     to convert the segmentation annotations to binary masks\n",
    "# TODO: approx 10 lines\n",
    "'''\n",
    "\n",
    "def get_instance_sample(data, idx, prepared_imageset):\n",
    "  for i in prepared_imageset:\n",
    "    if i[\"file_name\"] == data[\"file_name\"]:\n",
    "      obj_img = i[\"annotations\"][idx][\"obj_img\"]\n",
    "      obj_mask = i[\"annotations\"][idx][\"obj_mask\"]\n",
    "      break\n",
    "  return obj_img, obj_mask"
   ]
  },
  {
   "cell_type": "code",
   "execution_count": 36,
   "metadata": {
    "executionInfo": {
     "elapsed": 169,
     "status": "ok",
     "timestamp": 1731862903745,
     "user": {
      "displayName": "Milkistasty",
      "userId": "16252669245058055518"
     },
     "user_tz": 480
    },
    "id": "sxrc9X_pjzj-"
   },
   "outputs": [],
   "source": [
    "'''\n",
    "# We have provided a template data loader for your segmentation training\n",
    "# You need to complete the __getitem__() function before running the code\n",
    "# You may also need to add data augmentation or normalization in here\n",
    "'''\n",
    "\n",
    "class PlaneDataset(Dataset):\n",
    "    def __init__(self, set_name, data_list,prepared_imageset):\n",
    "        self.transforms = transforms.Compose(\n",
    "            [\n",
    "                transforms.ToTensor()  # Converting the image to tensor and change the image format (Channels-Last => Channels-First)\n",
    "            ]\n",
    "        )\n",
    "        self.set_name = set_name\n",
    "        self.data = data_list\n",
    "        self.predata = prepared_imageset\n",
    "        self.instance_map = []\n",
    "        for i, d in enumerate(self.data):\n",
    "            for j in range(len(d[\"annotations\"])):\n",
    "                self.instance_map.append([i, j])\n",
    "\n",
    "    \"\"\"\n",
    "  # you can change the value of length to a small number like 10 for debugging of your training procedure and overfeating\n",
    "  # make sure to use the correct length for the final training\n",
    "  \"\"\"\n",
    "\n",
    "    def __len__(self):\n",
    "        return len(self.instance_map)\n",
    "\n",
    "    def numpy_to_tensor(self, img, mask):\n",
    "        if self.transforms is not None:\n",
    "            img = self.transforms(img)\n",
    "        img = torch.tensor(img, dtype=torch.float)\n",
    "        mask = torch.tensor(mask, dtype=torch.float)\n",
    "        return img, mask\n",
    "\n",
    "    \"\"\"\n",
    "  # Complete this part by using get_instance_sample function\n",
    "  # make sure to resize the img and mask to a fixed size (for example 128*128)\n",
    "  # you can use \"interpolate\" function of pytorch or \"numpy.resize\"\n",
    "  # TODO: 5 lines\n",
    "  \"\"\"\n",
    "\n",
    "    def __getitem__(self, idx):\n",
    "        if torch.is_tensor(idx):\n",
    "            idx = idx.tolist()\n",
    "        idx = self.instance_map[idx]\n",
    "        data = self.data[idx[0]]\n",
    "        ann_index = idx[1]\n",
    "        img, mask = get_instance_sample(data, ann_index, self.predata)\n",
    "\n",
    "        img, mask = self.numpy_to_tensor(img, mask)\n",
    "        img = img.reshape((3,128,128))\n",
    "        mask = mask.reshape((1,128,128))\n",
    "\n",
    "        return img, mask\n",
    "\n",
    "def get_plane_dataset(set_name, prepared_imageset,batch_size=2):\n",
    "    my_data_list = DatasetCatalog.get(\"plane_{}\".format(set_name))\n",
    "    dataset = PlaneDataset(set_name, my_data_list,prepared_imageset)\n",
    "    loader = DataLoader(dataset, batch_size=batch_size, num_workers=2,\n",
    "                                              pin_memory=True, shuffle=True)\n",
    "    return loader, dataset\n",
    "\n",
    "def get_prediction_dataset(set_name, data_list,prepared_imageset,batch_size=2):\n",
    "    dataset = PlaneDataset(set_name, data_list,prepared_imageset)\n",
    "    loader = DataLoader(dataset, batch_size=batch_size, num_workers=2,\n",
    "                                              pin_memory=True, shuffle=False)\n",
    "    return loader, dataset"
   ]
  },
  {
   "cell_type": "code",
   "execution_count": null,
   "metadata": {
    "id": "SPyndVImubXb"
   },
   "outputs": [],
   "source": [
    "DatasetCatalog.list()"
   ]
  },
  {
   "cell_type": "markdown",
   "metadata": {
    "id": "m6eH3NKaQQfc"
   },
   "source": [
    "### Network"
   ]
  },
  {
   "cell_type": "code",
   "execution_count": null,
   "metadata": {
    "id": "PeqR3s3dSBPN"
   },
   "outputs": [],
   "source": [
    "'''\n",
    "# convolution module as a template layer consists of conv2d layer, batch normalization, and relu activation\n",
    "'''\n",
    "class conv(nn.Module):\n",
    "    def __init__(self, in_ch, out_ch):\n",
    "        super(conv, self).__init__()\n",
    "        self.layer = nn.Sequential(\n",
    "            nn.Conv2d(in_ch, out_ch, kernel_size=3, padding=1),\n",
    "            nn.BatchNorm2d(out_ch),\n",
    "            nn.ReLU(inplace=True),\n",
    "            nn.Conv2d(out_ch, out_ch, kernel_size=3, padding=1),\n",
    "            nn.BatchNorm2d(out_ch),\n",
    "            nn.ReLU(inplace=True)\n",
    "        )\n",
    "\n",
    "    def forward(self, x):\n",
    "        return self.layer(x)\n",
    "\n",
    "'''\n",
    "# downsampling module equal to a conv module followed by a max-pool layer\n",
    "'''\n",
    "class down(nn.Module):\n",
    "    def __init__(self, in_ch, out_ch):\n",
    "        super(down, self).__init__()\n",
    "        self.conv = conv(in_ch, out_ch)\n",
    "        self.pool = nn.MaxPool2d(2)\n",
    "\n",
    "    def forward(self, x):\n",
    "        x = self.conv(x)\n",
    "        x_downsampled = self.pool(x)\n",
    "        return x, x_downsampled\n",
    "\n",
    "'''\n",
    "# upsampling module equal to a upsample function followed by a conv module\n",
    "'''\n",
    "class up(nn.Module):\n",
    "    def __init__(self, in_ch, out_ch, bilinear=False):\n",
    "        super(up, self).__init__()\n",
    "        if bilinear:\n",
    "            self.up = nn.Upsample(scale_factor=2, mode='bilinear', align_corners=True)\n",
    "        else:\n",
    "            self.up = nn.ConvTranspose2d(in_ch, in_ch // 2, kernel_size=2, stride=2)\n",
    "        self.conv = conv(in_ch, out_ch)\n",
    "\n",
    "    def forward(self, x1, x2):\n",
    "        x1 = self.up(x1)\n",
    "        # Adjust padding to match the size of x2\n",
    "        diff_y = x2.size(2) - x1.size(2)\n",
    "        diff_x = x2.size(3) - x1.size(3)\n",
    "        x1 = F.pad(x1, [diff_x // 2, diff_x - diff_x // 2,\n",
    "                        diff_y // 2, diff_y - diff_y // 2])\n",
    "        # Concatenate\n",
    "        x = torch.cat([x2, x1], dim=1)\n",
    "        return self.conv(x)\n",
    "\n",
    "'''\n",
    "# the main model which you need to complete by using above modules.\n",
    "# you can also modify the above modules in order to improve your results.\n",
    "'''\n",
    "class MyModel(nn.Module):\n",
    "    # U-Net\n",
    "    def __init__(self):\n",
    "        super(MyModel, self).__init__()\n",
    "\n",
    "        # Encoder\n",
    "        self.enc1 = down(3, 64)\n",
    "        self.enc2 = down(64, 128)\n",
    "        self.enc3 = down(128, 256)\n",
    "        self.enc4 = down(256, 512)\n",
    "\n",
    "        # Decoder\n",
    "        self.up3 = up(512, 256)\n",
    "        self.up2 = up(256, 128)\n",
    "        self.up1 = up(128, 64)\n",
    "\n",
    "        # Output\n",
    "        self.output_layer = nn.Conv2d(64, 1, kernel_size=1)  # ReLu activation is removed to keep the logits for the loss function\n",
    "\n",
    "    def forward(self, x):\n",
    "        # Encoder path\n",
    "        x1, x1_down = self.enc1(x)\n",
    "        x2, x2_down = self.enc2(x1_down)\n",
    "        x3, x3_down = self.enc3(x2_down)\n",
    "        x4, _ = self.enc4(x3_down)\n",
    "\n",
    "        # Decoder path\n",
    "        x = self.up3(x4, x3)\n",
    "        x = self.up2(x, x2)\n",
    "        x = self.up1(x, x1)\n",
    "\n",
    "        # Output layer\n",
    "        return self.output_layer(x)\n",
    "\n",
    "model = MyModel().cuda()\n",
    "summary(model, (3,128, 128))"
   ]
  },
  {
   "cell_type": "markdown",
   "metadata": {
    "id": "rQj86vD9QT_Z"
   },
   "source": [
    "### Training"
   ]
  },
  {
   "cell_type": "code",
   "execution_count": null,
   "metadata": {
    "id": "MaZuO4SKSBuF"
   },
   "outputs": [],
   "source": [
    "'''\n",
    "# The following is a basic training procedure to train the network\n",
    "# You need to update the code to get the best performance\n",
    "# TODO: approx ? lines\n",
    "'''\n",
    "\n",
    "# Set the hyperparameters\n",
    "num_epochs = 50\n",
    "batch_size = 8\n",
    "learning_rate = 0.001\n",
    "weight_decay = 1e-5\n",
    "\n",
    "model = MyModel() # initialize the model\n",
    "model = model.cuda() # move the model to GPU\n",
    "loader, _ = get_plane_dataset('train', train_crop, batch_size) # initialize data_loader\n",
    "crit = nn.BCEWithLogitsLoss() # Define the loss function\n",
    "# optim = torch.optim.SGD(model.parameters(), lr=learning_rate, weight_decay=weight_decay) # Initialize the optimizer as SGD\n",
    "optim = torch.optim.Adam(model.parameters(), lr=learning_rate, weight_decay=weight_decay) # Initialize the optimizer as Adam\n",
    "\n",
    "# start the training procedure\n",
    "for epoch in range(num_epochs):\n",
    "  total_loss = 0\n",
    "  for (img, mask) in tqdm(loader):\n",
    "    img = torch.tensor(img, device=torch.device('cuda'), requires_grad = True)\n",
    "    mask = torch.tensor(mask, device=torch.device('cuda'), requires_grad = True)\n",
    "    pred = model(img)\n",
    "    loss = crit(pred, mask)\n",
    "    optim.zero_grad()\n",
    "    loss.backward()\n",
    "    optim.step()\n",
    "    total_loss += loss.cpu().data\n",
    "  print(\"Epoch: {}, Loss: {}\".format(epoch, total_loss/len(loader)))\n",
    "  torch.save(model.state_dict(), '{}/output/{}_segmentation_model.pth'.format(BASE_DIR, epoch))\n",
    "\n",
    "'''\n",
    "# Saving the final model\n",
    "'''\n",
    "torch.save(model.state_dict(), '{}/output/final_segmentation_model.pth'.format(BASE_DIR))\n"
   ]
  },
  {
   "cell_type": "markdown",
   "metadata": {
    "id": "0dyez1fyQYw7"
   },
   "source": [
    "### Evaluation and Visualization"
   ]
  },
  {
   "cell_type": "code",
   "execution_count": null,
   "metadata": {
    "id": "TDeViryUSCL2"
   },
   "outputs": [],
   "source": [
    "'''\n",
    "# Before starting the evaluation, you need to set the model mode to eval\n",
    "# You may load the trained model again, in case if you want to continue your code later\n",
    "# TODO: approx 15 lines\n",
    "'''\n",
    "device = torch.device(\"cuda\" if torch.cuda.is_available() else \"cpu\")\n",
    "batch_size = 8\n",
    "model = MyModel().cuda()\n",
    "model.load_state_dict(torch.load('{}/output/final_segmentation_model.pth'.format(BASE_DIR)))\n",
    "model = model.eval() # changing the model to evaluation mode will fix the batchnorm layers\n",
    "loader, dataset = get_plane_dataset('train', train_crop, batch_size)\n",
    "\n",
    "total_iou = 0\n",
    "count = 0\n",
    "\n",
    "sigmoid = nn.Sigmoid()\n",
    "\n",
    "img_data = []\n",
    "mask_data = []\n",
    "pred_data = []\n",
    "\n",
    "with torch.no_grad():\n",
    "    for img_batch, mask_batch in tqdm(loader, desc=\"Evaluating\"):\n",
    "        # Move data to device\n",
    "        img_batch = img_batch.to(device)\n",
    "        mask_batch = mask_batch.to(device)\n",
    "\n",
    "        # Forward pass\n",
    "        pred_batch = model(img_batch)\n",
    "        pred_batch = sigmoid(pred_batch)  # Apply sigmoid to get probabilities\n",
    "\n",
    "        # Apply threshold to get binary masks\n",
    "        pred_batch = (pred_batch >= 0.4).float()\n",
    "\n",
    "        # Reshape for IoU calculation\n",
    "        # pred_batch and mask_batch shape: (batch_size, 1, 128, 128)\n",
    "        pred_batch_flat = pred_batch.view(pred_batch.size(0), -1)  # Shape: (batch_size, 16384)\n",
    "        mask_batch_flat = mask_batch.view(mask_batch.size(0), -1)  # Shape: (batch_size, 16384)\n",
    "\n",
    "        # Compute intersection and union\n",
    "        intersection = (pred_batch_flat * mask_batch_flat).sum(dim=1)\n",
    "        union = (pred_batch_flat + mask_batch_flat).clamp(max=1).sum(dim=1)\n",
    "\n",
    "        # Avoid division by zero and calculate IoU\n",
    "        iou_batch = (intersection / (union + 1e-6)).cpu().numpy()\n",
    "\n",
    "        # Accumulate metrics\n",
    "        total_iou += iou_batch.sum()\n",
    "        count += iou_batch.size\n",
    "\n",
    "        # Process and store images, masks, and predictions for visualization\n",
    "        # Convert tensors to CPU and NumPy\n",
    "        img_batch_cpu = img_batch.cpu().numpy()  # Shape: (batch_size, 3, 128, 128)\n",
    "        mask_batch_cpu = mask_batch.cpu().numpy()  # Shape: (batch_size, 1, 128, 128)\n",
    "        pred_batch_cpu = pred_batch.cpu().numpy()  # Shape: (batch_size, 1, 128, 128)\n",
    "\n",
    "        for i in range(img_batch_cpu.shape[0]):\n",
    "            # Process Input Image\n",
    "            img_np = img_batch_cpu[i].transpose(1, 2, 0)  # Convert to (128, 128, 3)\n",
    "            img_np = (img_np * 255).astype(np.uint8)  # Scale to [0, 255] and convert to uint8\n",
    "            img_data.append(img_np)\n",
    "\n",
    "            # Process Ground Truth Mask\n",
    "            mask_np = mask_batch_cpu[i].squeeze()  # Convert to (128, 128)\n",
    "            mask_np = (mask_np * 255).astype(np.uint8)  # Scale to [0, 255] and convert to uint8\n",
    "            mask_data.append(mask_np)\n",
    "\n",
    "            # Process Predicted Mask\n",
    "            pred_np = pred_batch_cpu[i].squeeze()  # Convert to (128, 128)\n",
    "            pred_np = (pred_np * 255).astype(np.uint8)  # Scale to [0, 255] and convert to uint8\n",
    "            pred_data.append(pred_np)\n",
    "\n",
    "# Calculate Mean IoU\n",
    "mean_iou = total_iou / count\n",
    "\n",
    "print(f\"\\nMean IoU: {mean_iou:.4f}\")\n",
    "print(f\"#images: {count}, Mean IoU: {mean_iou:.4f}\")"
   ]
  },
  {
   "cell_type": "code",
   "execution_count": null,
   "metadata": {
    "id": "jbmTj9JICiKz"
   },
   "outputs": [],
   "source": [
    "'''\n",
    "# Visualize 3 sample outputs\n",
    "# TODO: approx 5 lines\n",
    "'''\n",
    "\n",
    "for i in range(3):\n",
    "    r = random.randint(0, len(mask_data) - 1)\n",
    "\n",
    "    plt.figure(figsize=(12, 4))\n",
    "\n",
    "    plt.subplot(1, 3, 1)\n",
    "    plt.imshow(img_data[r].squeeze(), cmap='gray')\n",
    "    plt.title(\"Input Image\")\n",
    "    plt.axis('off')\n",
    "\n",
    "    # Show the ground truth mask\n",
    "    plt.subplot(1, 3, 2)\n",
    "    plt.imshow(mask_data[r].squeeze(), cmap='gray')\n",
    "    plt.title(\"Ground Truth Mask\")\n",
    "    plt.axis('off')\n",
    "\n",
    "    # Show the predicted mask\n",
    "    plt.subplot(1, 3, 3)\n",
    "    plt.imshow(pred_data[r].squeeze(), cmap='gray')\n",
    "    plt.title(\"Predicted Mask\")\n",
    "    plt.axis('off')\n",
    "\n",
    "    plt.tight_layout()\n",
    "    plt.show()"
   ]
  },
  {
   "cell_type": "markdown",
   "metadata": {
    "id": "navoiGdrqaZT"
   },
   "source": [
    "## Part 3: Instance Segmentation\n",
    "\n",
    "In this part, you need to obtain the instance segmentation results for the test data by using the trained segmentation model in the previous part and the detection model in Part 1."
   ]
  },
  {
   "cell_type": "markdown",
   "metadata": {
    "id": "vBwk33DGBowP"
   },
   "source": [
    "### Get Prediction"
   ]
  },
  {
   "cell_type": "code",
   "execution_count": 107,
   "metadata": {
    "executionInfo": {
     "elapsed": 183,
     "status": "ok",
     "timestamp": 1731868927797,
     "user": {
      "displayName": "Milkistasty",
      "userId": "16252669245058055518"
     },
     "user_tz": 480
    },
    "id": "crrZ8TG-Ot2J"
   },
   "outputs": [],
   "source": [
    "\"\"\"\n",
    "# Define a new function to obtain the prediction mask by passing a sample data\n",
    "# For this part, you need to use all the previous parts (predictor, get_instance_sample, data preprocessings, etc)\n",
    "# It is better to keep everything (as well as the output of this funcion) on gpu as tensors to speed up the operations.\n",
    "# pred_mask is the instance segmentation result and should have different values for different planes.\n",
    "# TODO: approx 35 lines\n",
    "\"\"\"\n",
    "\n",
    "def get_prediction_mask(data, prepared_imageset):\n",
    "    # Prepare sample\n",
    "    sample = [name for name in prepared_imageset if name[\"file_name\"] == data[\"file_name\"]] if not data[\"annotations\"] else [data]\n",
    "\n",
    "    # Ground truth mask\n",
    "    height, width = data[\"height\"], data[\"width\"]\n",
    "    gt_mask = (\n",
    "        torch.from_numpy(\n",
    "            detectron2.utils.visualizer.GenericMask(\n",
    "                [ann[\"segmentation\"][0] for ann in data[\"annotations\"]],\n",
    "                height,\n",
    "                width,\n",
    "            ).mask\n",
    "        )\n",
    "        if data[\"annotations\"]\n",
    "        else None\n",
    "    )\n",
    "\n",
    "    # Load model\n",
    "    model = MyModel().cuda()\n",
    "    model.load_state_dict(torch.load(f\"{BASE_DIR}/output/final_segmentation_model.pth\"))\n",
    "    model.eval()\n",
    "\n",
    "    # Predictions\n",
    "    loader, _ = get_prediction_dataset(\"prediction\", sample, prepared_imageset, batch_size=8)\n",
    "    pred_data = []\n",
    "    for img, _ in tqdm(loader):\n",
    "        with torch.no_grad():\n",
    "            preds = nn.Sigmoid()(model(img.cuda()))\n",
    "            pred_data.extend((pred.squeeze().cpu().numpy() >= 0.4).astype(int) for pred in preds)\n",
    "\n",
    "    # Combine predictions with ground truth\n",
    "    pred_mask, gt = combine_predictions_with_gt(data, pred_data, height, width)\n",
    "    gt_tensor = torch.from_numpy(gt).cuda()\n",
    "    return Image.open(data[\"file_name\"]), gt_mask.cuda() if gt_mask is not None else gt_tensor, gt_tensor\n",
    "\n",
    "def combine_predictions_with_gt(data, pred_data, height, width):\n",
    "    gt = np.zeros((height, width), dtype=np.int32)\n",
    "    for idx, pred in enumerate(pred_data):\n",
    "        if idx >= len(data[\"annotations\"]):  # Skip extra predictions\n",
    "            break\n",
    "        x, y, w, h = map(int, data[\"annotations\"][idx][\"bbox\"])\n",
    "        resized_pred = cv2.resize(pred, (w, h))\n",
    "        gt[y : y + h, x : x + w] = np.where(resized_pred > 0.5, idx + 1, gt[y : y + h, x : x + w])\n",
    "    return pred_data, gt\n",
    "\n",
    "def get_prediction_test(data, prepared_imageset):\n",
    "    img, gt_mask, pred_mask = get_prediction_mask(data, prepared_imageset)\n",
    "    for name in prepared_imageset:\n",
    "        if name[\"file_name\"] == data[\"file_name\"]:\n",
    "            num_annotations = len(name[\"annotations\"])\n",
    "            num_preds = len(pred_mask)\n",
    "            # Adjust annotation length if needed\n",
    "            if num_preds > num_annotations:\n",
    "                name[\"annotations\"].extend([{\"obj_mask\": None} for _ in range(num_preds - num_annotations)])\n",
    "            # Assign predictions\n",
    "            for idx, pred in enumerate(pred_mask):\n",
    "                name[\"annotations\"][idx][\"obj_mask\"] = pred\n",
    "    return img, gt_mask, pred_mask"
   ]
  },
  {
   "cell_type": "markdown",
   "metadata": {
    "id": "fc7TSK6EBi9u"
   },
   "source": [
    "### Visualization and Submission"
   ]
  },
  {
   "cell_type": "code",
   "execution_count": 109,
   "metadata": {
    "colab": {
     "base_uri": "https://localhost:8080/",
     "height": 315
    },
    "collapsed": true,
    "executionInfo": {
     "elapsed": 5655,
     "status": "ok",
     "timestamp": 1731868938247,
     "user": {
      "displayName": "Milkistasty",
      "userId": "16252669245058055518"
     },
     "user_tz": 480
    },
    "id": "H7T2YX8MBiGO",
    "outputId": "0d4a13d6-ef5d-4c27-a181-542dc197b96d"
   },
   "outputs": [],
   "source": [
    "'''\n",
    "# Visualise the output prediction as well as the GT Mask and Input image for a sample input\n",
    "# TODO: approx 10 lines\n",
    "'''\n",
    "\n",
    "idx = 2\n",
    "my_data_list = DatasetCatalog.get(\"plane_{}\".format('test'))\n",
    "sample = my_data_list[idx]\n",
    "img, gt_mask, pred_mask = get_prediction_test(sample, test_crop)\n",
    "\n",
    "plt.figure(figsize=(12, 4))\n",
    "\n",
    "# Show the input image\n",
    "plt.subplot(1, 3, 1)\n",
    "plt.imshow(img, cmap='gray')\n",
    "plt.title(\"Input Image\")\n",
    "plt.axis('off')\n",
    "\n",
    "# Show the ground truth mask\n",
    "plt.subplot(1, 3, 2)\n",
    "plt.imshow(gt_mask, cmap='gray')\n",
    "plt.title(\"Ground Truth Mask\")\n",
    "plt.axis('off')\n",
    "\n",
    "# Show the predicted mask\n",
    "plt.subplot(1, 3, 3)\n",
    "plt.imshow(pred_mask.cpu().squeeze(), cmap='gray')\n",
    "plt.title(\"Predicted Mask\")\n",
    "plt.axis('off')\n",
    "\n",
    "plt.tight_layout()\n",
    "plt.show()"
   ]
  },
  {
   "cell_type": "code",
   "execution_count": 82,
   "metadata": {
    "executionInfo": {
     "elapsed": 230,
     "status": "ok",
     "timestamp": 1731867271548,
     "user": {
      "displayName": "Milkistasty",
      "userId": "16252669245058055518"
     },
     "user_tz": 480
    },
    "id": "uPo_03up-g_f"
   },
   "outputs": [],
   "source": [
    "'''\n",
    "# ref: https://www.kaggle.com/rakhlin/fast-run-length-encoding-python\n",
    "# https://www.kaggle.com/c/airbus-ship-detection/overview/evaluation\n",
    "'''\n",
    "def rle_encoding(x):\n",
    "    '''\n",
    "    x: pytorch tensor on gpu, 1 - mask, 0 - background\n",
    "    Returns run length as list\n",
    "    '''\n",
    "    dots = torch.where(torch.flatten(x.long())==1)[0]\n",
    "    if(len(dots)==0):\n",
    "      return []\n",
    "    inds = torch.where(dots[1:]!=dots[:-1]+1)[0]+1\n",
    "    inds = torch.cat((torch.tensor([0], device=torch.device('cuda'), dtype=torch.long), inds))\n",
    "    tmpdots = dots[inds]\n",
    "    inds = torch.cat((inds, torch.tensor([len(dots)], device=torch.device('cuda'))))\n",
    "    inds = inds[1:] - inds[:-1]\n",
    "    runs = torch.cat((tmpdots, inds)).reshape((2,-1))\n",
    "    runs = torch.flatten(torch.transpose(runs, 0, 1)).cpu().data.numpy()\n",
    "    return ' '.join([str(i) for i in runs])"
   ]
  },
  {
   "cell_type": "code",
   "execution_count": null,
   "metadata": {
    "id": "zv0rab2LJev-"
   },
   "outputs": [],
   "source": [
    "'''\n",
    "# You need to upload the csv file on kaggle\n",
    "# The speed of your code in the previous parts highly affects the running time of this part\n",
    "'''\n",
    "\n",
    "preddic = {\"ImageId\": [], \"EncodedPixels\": []}\n",
    "\n",
    "'''\n",
    "# Writing the predictions of the training set\n",
    "'''\n",
    "\n",
    "my_data_list = DatasetCatalog.get(\"plane_{}\".format('train'))\n",
    "for i in tqdm(range(len(my_data_list)), position=0, leave=True):\n",
    "  sample = my_data_list[i]\n",
    "  sample['image_id'] = sample['file_name'].split(\"/\")[-1][:-4]\n",
    "  img, true_mask, pred_mask = get_prediction_mask(sample, train_crop)\n",
    "  inds = torch.unique(pred_mask)\n",
    "  if(len(inds)==1):\n",
    "    preddic['ImageId'].append(sample['image_id'])\n",
    "    preddic['EncodedPixels'].append([])\n",
    "  else:\n",
    "    for index in inds:\n",
    "      if(index == 0):\n",
    "        continue\n",
    "      tmp_mask = (pred_mask==index)\n",
    "      encPix = rle_encoding(tmp_mask)\n",
    "      preddic['ImageId'].append(sample['image_id'])\n",
    "      preddic['EncodedPixels'].append(encPix)\n",
    "\n",
    "'''\n",
    "# Writing the predictions of the test set\n",
    "'''\n",
    "\n",
    "my_data_list = DatasetCatalog.get(\"plane_{}\".format('test'))\n",
    "for i in tqdm(range(len(my_data_list)), position=0, leave=True):\n",
    "  sample = my_data_list[i]\n",
    "  sample['image_id'] = sample['file_name'].split(\"/\")[-1][:-4]\n",
    "\n",
    "  img, true_mask, pred_mask = get_prediction_test(sample,test_crop)\n",
    "  inds = torch.unique(pred_mask)\n",
    "  if(len(inds)==1):\n",
    "    preddic['ImageId'].append(sample['image_id'])\n",
    "    preddic['EncodedPixels'].append([])\n",
    "  else:\n",
    "    for j, index in enumerate(inds):\n",
    "      if(index == 0):\n",
    "        continue\n",
    "      tmp_mask = (pred_mask==index).double()\n",
    "      encPix = rle_encoding(tmp_mask)\n",
    "      preddic['ImageId'].append(sample['image_id'])\n",
    "      preddic['EncodedPixels'].append(encPix)\n",
    "\n",
    "pred_file = open(\"{}/pred.csv\".format(BASE_DIR), 'w')\n",
    "pd.DataFrame(preddic).to_csv(pred_file, index=False)\n",
    "pred_file.close()"
   ]
  },
  {
   "cell_type": "markdown",
   "metadata": {
    "id": "p7nN4SduqrpI"
   },
   "source": [
    "## Part 4: Mask R-CNN\n",
    "\n",
    "For this part you need to follow a same procedure to part 2 with the configs of Mask R-CNN, other parts are generally the same as part 2."
   ]
  },
  {
   "cell_type": "markdown",
   "metadata": {
    "id": "axWf7drKNXYd"
   },
   "source": [
    "### Data Loader"
   ]
  },
  {
   "cell_type": "code",
   "execution_count": null,
   "metadata": {
    "id": "yC1FDCcQN2LH"
   },
   "outputs": [],
   "source": [
    "\n",
    "cfg = get_cfg()\n",
    "cfg.OUTPUT_DIR = \"{}/output/\".format(BASE_DIR)\n",
    "\n",
    "#cfg.merge_from_file(model_zoo.get_config_file(\"COCO-Detection/faster_rcnn_R_101_FPN_3x.yaml\"))\n",
    "cfg.merge_from_file(model_zoo.get_config_file(\"COCO-InstanceSegmentation/mask_rcnn_R_50_FPN_3x.yaml\"))\n",
    "cfg.DATASETS.TRAIN = (\"plane_train\",)\n",
    "cfg.DATASETS.TEST = (\"plane_test\",)\n",
    "\n",
    "cfg.DATALOADER.NUM_WORKERS = 4\n",
    "#cfg.MODEL.WEIGHTS = model_zoo.get_checkpoint_url(\"COCO-Detection/faster_rcnn_R_101_FPN_3x.yaml\")\n",
    "cfg.MODEL.WEIGHTS = model_zoo.get_checkpoint_url(\"COCO-InstanceSegmentation/mask_rcnn_R_50_FPN_3x.yaml\")\n",
    "cfg.SOLVER.IMS_PER_BATCH = 2\n",
    "cfg.SOLVER.BASE_LR = 0.00025\n",
    "cfg.SOLVER.MAX_ITER = 500\n",
    "cfg.MODEL.ROI_HEADS.BATCH_SIZE_PER_IMAGE = 512\n",
    "cfg.MODEL.ROI_HEADS.NUM_CLASSES = 1\n"
   ]
  },
  {
   "cell_type": "markdown",
   "metadata": {
    "id": "lG5slAhQNjE7"
   },
   "source": [
    "### Network"
   ]
  },
  {
   "cell_type": "markdown",
   "metadata": {
    "id": "t7ifeV1sNvtt"
   },
   "source": [
    "### Training"
   ]
  },
  {
   "cell_type": "code",
   "execution_count": null,
   "metadata": {
    "id": "tc4K0Nz5OeKk"
   },
   "outputs": [],
   "source": [
    "os.makedirs(cfg.OUTPUT_DIR, exist_ok=True)\n",
    "trainer = DefaultTrainer(cfg)\n",
    "trainer.resume_or_load(resume=False)   #default False, ensures loading from cfg.MODEL.WEIGHTS\n",
    "\n",
    "trainer.train()"
   ]
  },
  {
   "cell_type": "markdown",
   "metadata": {
    "id": "298QruFnNxyn"
   },
   "source": [
    "### Evaluation and Visualization"
   ]
  },
  {
   "cell_type": "code",
   "execution_count": null,
   "metadata": {
    "colab": {
     "base_uri": "https://localhost:8080/"
    },
    "executionInfo": {
     "elapsed": 1351,
     "status": "ok",
     "timestamp": 1731829000003,
     "user": {
      "displayName": "Milkistasty",
      "userId": "16252669245058055518"
     },
     "user_tz": 480
    },
    "id": "KcGwV5-9Oetp",
    "outputId": "c7a107a5-fbc4-45aa-b7f9-e840ececd446"
   },
   "outputs": [
    {
     "name": "stdout",
     "output_type": "stream",
     "text": [
      "[11/17 07:36:39 d2.checkpoint.detection_checkpoint]: [DetectionCheckpointer] Loading from /content/drive/My Drive/CMPT_CV_lab4/output/model_final.pth ...\n"
     ]
    }
   ],
   "source": [
    "cfg.MODEL.WEIGHTS = os.path.join(cfg.OUTPUT_DIR, \"model_final.pth\")  # path to the model we just trained\n",
    "cfg.MODEL.ROI_HEADS.SCORE_THRESH_TEST = 0.6   # set a custom testing threshold\n",
    "predictor = DefaultPredictor(cfg)"
   ]
  },
  {
   "cell_type": "code",
   "execution_count": null,
   "metadata": {
    "id": "l_3wS2BFLLGp"
   },
   "outputs": [],
   "source": [
    "evaluator = COCOEvaluator(\"plane_train\", cfg, False, output_dir= \"./output/\")\n",
    "val_loader = build_detection_test_loader(cfg, \"plane_train\")\n",
    "print(inference_on_dataset(trainer.model, val_loader, evaluator))"
   ]
  },
  {
   "cell_type": "code",
   "execution_count": null,
   "metadata": {
    "id": "q1rL5l2J088X"
   },
   "outputs": [],
   "source": [
    "dataset_dicts = get_detection_data(\"test\")\n",
    "count = 0\n",
    "for d in random.sample(dataset_dicts, 3):\n",
    "    count +=1\n",
    "    im = cv2.imread(d[\"file_name\"])\n",
    "    outputs = predictor(im)  # reference: https://detectron2.readthedocs.io/tutorials/models.html#model-output-format\n",
    "    v = Visualizer(im[:, :, ::-1],\n",
    "                   metadata=planes_metadata,\n",
    "                   scale=0.2,\n",
    "                    # remove the colors of unsegmented pixels. This option is only available for segmentation models\n",
    "    )\n",
    "    out = v.draw_instance_predictions(outputs[\"instances\"].to(\"cpu\"))\n",
    "    cv2_imshow(out.get_image()[:, :, ::-1])"
   ]
  }
 ],
 "metadata": {
  "accelerator": "GPU",
  "colab": {
   "provenance": [],
   "toc_visible": true
  },
  "kernelspec": {
   "display_name": "Python 3",
   "name": "python3"
  }
 },
 "nbformat": 4,
 "nbformat_minor": 0
}
